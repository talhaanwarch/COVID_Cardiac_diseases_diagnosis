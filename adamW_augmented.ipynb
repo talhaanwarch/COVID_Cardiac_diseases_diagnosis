{
  "nbformat": 4,
  "nbformat_minor": 0,
  "metadata": {
    "accelerator": "GPU",
    "colab": {
      "name": "adamW_augmented.ipynb",
      "provenance": [],
      "collapsed_sections": [],
      "include_colab_link": true
    },
    "kernelspec": {
      "display_name": "Python 3",
      "language": "python",
      "name": "python3"
    },
    "language_info": {
      "codemirror_mode": {
        "name": "ipython",
        "version": 3
      },
      "file_extension": ".py",
      "mimetype": "text/x-python",
      "name": "python",
      "nbconvert_exporter": "python",
      "pygments_lexer": "ipython3",
      "version": "3.7.6"
    },
    "widgets": {
      "application/vnd.jupyter.widget-state+json": {
        "7ea69290d1af4666921f127f6ce51a0f": {
          "model_module": "@jupyter-widgets/controls",
          "model_name": "HBoxModel",
          "state": {
            "_view_name": "HBoxView",
            "_dom_classes": [],
            "_model_name": "HBoxModel",
            "_view_module": "@jupyter-widgets/controls",
            "_model_module_version": "1.5.0",
            "_view_count": null,
            "_view_module_version": "1.5.0",
            "box_style": "",
            "layout": "IPY_MODEL_963948a56d2244ef820a8884f2f606e5",
            "_model_module": "@jupyter-widgets/controls",
            "children": [
              "IPY_MODEL_00aeadb2eb384458902705fbe1b82c92",
              "IPY_MODEL_83a8280e2c3447e7bb0b69b4831b749c"
            ]
          }
        },
        "963948a56d2244ef820a8884f2f606e5": {
          "model_module": "@jupyter-widgets/base",
          "model_name": "LayoutModel",
          "state": {
            "_view_name": "LayoutView",
            "grid_template_rows": null,
            "right": null,
            "justify_content": null,
            "_view_module": "@jupyter-widgets/base",
            "overflow": null,
            "_model_module_version": "1.2.0",
            "_view_count": null,
            "flex_flow": null,
            "width": null,
            "min_width": null,
            "border": null,
            "align_items": null,
            "bottom": null,
            "_model_module": "@jupyter-widgets/base",
            "top": null,
            "grid_column": null,
            "overflow_y": null,
            "overflow_x": null,
            "grid_auto_flow": null,
            "grid_area": null,
            "grid_template_columns": null,
            "flex": null,
            "_model_name": "LayoutModel",
            "justify_items": null,
            "grid_row": null,
            "max_height": null,
            "align_content": null,
            "visibility": null,
            "align_self": null,
            "height": null,
            "min_height": null,
            "padding": null,
            "grid_auto_rows": null,
            "grid_gap": null,
            "max_width": null,
            "order": null,
            "_view_module_version": "1.2.0",
            "grid_template_areas": null,
            "object_position": null,
            "object_fit": null,
            "grid_auto_columns": null,
            "margin": null,
            "display": null,
            "left": null
          }
        },
        "00aeadb2eb384458902705fbe1b82c92": {
          "model_module": "@jupyter-widgets/controls",
          "model_name": "FloatProgressModel",
          "state": {
            "_view_name": "ProgressView",
            "style": "IPY_MODEL_e849e6180c2e4a61b5a7f7b48cfc84fd",
            "_dom_classes": [],
            "description": "100%",
            "_model_name": "FloatProgressModel",
            "bar_style": "success",
            "max": 49388949,
            "_view_module": "@jupyter-widgets/controls",
            "_model_module_version": "1.5.0",
            "value": 49388949,
            "_view_count": null,
            "_view_module_version": "1.5.0",
            "orientation": "horizontal",
            "min": 0,
            "description_tooltip": null,
            "_model_module": "@jupyter-widgets/controls",
            "layout": "IPY_MODEL_6f2efe09b0a440a69e72d486259661bc"
          }
        },
        "83a8280e2c3447e7bb0b69b4831b749c": {
          "model_module": "@jupyter-widgets/controls",
          "model_name": "HTMLModel",
          "state": {
            "_view_name": "HTMLView",
            "style": "IPY_MODEL_a3b9c7006f9e48c491ec47c54fb9c26b",
            "_dom_classes": [],
            "description": "",
            "_model_name": "HTMLModel",
            "placeholder": "​",
            "_view_module": "@jupyter-widgets/controls",
            "_model_module_version": "1.5.0",
            "value": " 47.1M/47.1M [00:01&lt;00:00, 33.6MB/s]",
            "_view_count": null,
            "_view_module_version": "1.5.0",
            "description_tooltip": null,
            "_model_module": "@jupyter-widgets/controls",
            "layout": "IPY_MODEL_41e563ea52ab4c59856ededd4288270f"
          }
        },
        "e849e6180c2e4a61b5a7f7b48cfc84fd": {
          "model_module": "@jupyter-widgets/controls",
          "model_name": "ProgressStyleModel",
          "state": {
            "_view_name": "StyleView",
            "_model_name": "ProgressStyleModel",
            "description_width": "initial",
            "_view_module": "@jupyter-widgets/base",
            "_model_module_version": "1.5.0",
            "_view_count": null,
            "_view_module_version": "1.2.0",
            "bar_color": null,
            "_model_module": "@jupyter-widgets/controls"
          }
        },
        "6f2efe09b0a440a69e72d486259661bc": {
          "model_module": "@jupyter-widgets/base",
          "model_name": "LayoutModel",
          "state": {
            "_view_name": "LayoutView",
            "grid_template_rows": null,
            "right": null,
            "justify_content": null,
            "_view_module": "@jupyter-widgets/base",
            "overflow": null,
            "_model_module_version": "1.2.0",
            "_view_count": null,
            "flex_flow": null,
            "width": null,
            "min_width": null,
            "border": null,
            "align_items": null,
            "bottom": null,
            "_model_module": "@jupyter-widgets/base",
            "top": null,
            "grid_column": null,
            "overflow_y": null,
            "overflow_x": null,
            "grid_auto_flow": null,
            "grid_area": null,
            "grid_template_columns": null,
            "flex": null,
            "_model_name": "LayoutModel",
            "justify_items": null,
            "grid_row": null,
            "max_height": null,
            "align_content": null,
            "visibility": null,
            "align_self": null,
            "height": null,
            "min_height": null,
            "padding": null,
            "grid_auto_rows": null,
            "grid_gap": null,
            "max_width": null,
            "order": null,
            "_view_module_version": "1.2.0",
            "grid_template_areas": null,
            "object_position": null,
            "object_fit": null,
            "grid_auto_columns": null,
            "margin": null,
            "display": null,
            "left": null
          }
        },
        "a3b9c7006f9e48c491ec47c54fb9c26b": {
          "model_module": "@jupyter-widgets/controls",
          "model_name": "DescriptionStyleModel",
          "state": {
            "_view_name": "StyleView",
            "_model_name": "DescriptionStyleModel",
            "description_width": "",
            "_view_module": "@jupyter-widgets/base",
            "_model_module_version": "1.5.0",
            "_view_count": null,
            "_view_module_version": "1.2.0",
            "_model_module": "@jupyter-widgets/controls"
          }
        },
        "41e563ea52ab4c59856ededd4288270f": {
          "model_module": "@jupyter-widgets/base",
          "model_name": "LayoutModel",
          "state": {
            "_view_name": "LayoutView",
            "grid_template_rows": null,
            "right": null,
            "justify_content": null,
            "_view_module": "@jupyter-widgets/base",
            "overflow": null,
            "_model_module_version": "1.2.0",
            "_view_count": null,
            "flex_flow": null,
            "width": null,
            "min_width": null,
            "border": null,
            "align_items": null,
            "bottom": null,
            "_model_module": "@jupyter-widgets/base",
            "top": null,
            "grid_column": null,
            "overflow_y": null,
            "overflow_x": null,
            "grid_auto_flow": null,
            "grid_area": null,
            "grid_template_columns": null,
            "flex": null,
            "_model_name": "LayoutModel",
            "justify_items": null,
            "grid_row": null,
            "max_height": null,
            "align_content": null,
            "visibility": null,
            "align_self": null,
            "height": null,
            "min_height": null,
            "padding": null,
            "grid_auto_rows": null,
            "grid_gap": null,
            "max_width": null,
            "order": null,
            "_view_module_version": "1.2.0",
            "grid_template_areas": null,
            "object_position": null,
            "object_fit": null,
            "grid_auto_columns": null,
            "margin": null,
            "display": null,
            "left": null
          }
        }
      }
    }
  },
  "cells": [
    {
      "cell_type": "markdown",
      "metadata": {
        "id": "view-in-github",
        "colab_type": "text"
      },
      "source": [
        "<a href=\"https://colab.research.google.com/github/talhaanwarch/COVID_Cardiac_diseases_diagnosis/blob/main/adamW_augmented.ipynb\" target=\"_parent\"><img src=\"https://colab.research.google.com/assets/colab-badge.svg\" alt=\"Open In Colab\"/></a>"
      ]
    },
    {
      "cell_type": "code",
      "metadata": {
        "colab": {
          "base_uri": "https://localhost:8080/"
        },
        "id": "1Ia_o15A-s1W",
        "outputId": "7eb70cb2-b036-4f38-9095-18e5f1d5bc80"
      },
      "source": [
        "from google.colab import drive\r\n",
        "drive.mount('/content/drive',force_remount=True)"
      ],
      "execution_count": null,
      "outputs": [
        {
          "output_type": "stream",
          "text": [
            "Mounted at /content/drive\n"
          ],
          "name": "stdout"
        }
      ]
    },
    {
      "cell_type": "code",
      "metadata": {
        "id": "gcFLmTAp_P7S"
      },
      "source": [
        "%%capture\r\n",
        "!cp '/content/drive/MyDrive/data/ECG_paper/images.zip' '/content/'\r\n",
        "!unzip /content/images.zip"
      ],
      "execution_count": null,
      "outputs": []
    },
    {
      "cell_type": "code",
      "metadata": {
        "id": "zw_VltEzAo34"
      },
      "source": [
        "%%capture\r\n",
        "pip install efficientnet_pytorch"
      ],
      "execution_count": null,
      "outputs": []
    },
    {
      "cell_type": "code",
      "metadata": {
        "id": "bjRL-smdeyrL"
      },
      "source": [
        "# !rm -rf /content/ecg_data\r\n",
        "# !rm -rf /content/data"
      ],
      "execution_count": null,
      "outputs": []
    },
    {
      "cell_type": "code",
      "metadata": {
        "id": "T6-_U3XlV084"
      },
      "source": [
        "#add suffix to file names\r\n",
        "import os\r\n",
        "from glob import glob\r\n",
        "for dir in os.listdir('/content/ecg_data'):\r\n",
        "  for img in glob('ecg_data/{}/*.jpg'.format(dir)):\r\n",
        "    os.rename(img,img[0:-4]+'_{}.jpg'.format(dir))\r\n"
      ],
      "execution_count": null,
      "outputs": []
    },
    {
      "cell_type": "code",
      "metadata": {
        "colab": {
          "base_uri": "https://localhost:8080/",
          "height": 202
        },
        "id": "MVWYyW5fXjkk",
        "outputId": "ed366aeb-4a2d-4048-a778-d1789fba3739"
      },
      "source": [
        "#create dataframe \r\n",
        "import pandas as pd\r\n",
        "img_list=[]\r\n",
        "img_label=[]\r\n",
        "for dir in os.listdir('/content/ecg_data'):\r\n",
        "  for img in glob('ecg_data/{}/*.jpg'.format(dir)):\r\n",
        "    img_list.append(img)\r\n",
        "    img_label.append(dir)\r\n",
        "\r\n",
        "df=pd.DataFrame(zip(img_list,img_label),columns=['img','label'])\r\n",
        "df.head()"
      ],
      "execution_count": null,
      "outputs": [
        {
          "output_type": "execute_result",
          "data": {
            "text/html": [
              "<div>\n",
              "<style scoped>\n",
              "    .dataframe tbody tr th:only-of-type {\n",
              "        vertical-align: middle;\n",
              "    }\n",
              "\n",
              "    .dataframe tbody tr th {\n",
              "        vertical-align: top;\n",
              "    }\n",
              "\n",
              "    .dataframe thead th {\n",
              "        text-align: right;\n",
              "    }\n",
              "</style>\n",
              "<table border=\"1\" class=\"dataframe\">\n",
              "  <thead>\n",
              "    <tr style=\"text-align: right;\">\n",
              "      <th></th>\n",
              "      <th>img</th>\n",
              "      <th>label</th>\n",
              "    </tr>\n",
              "  </thead>\n",
              "  <tbody>\n",
              "    <tr>\n",
              "      <th>0</th>\n",
              "      <td>ecg_data/MI/262_MI.jpg</td>\n",
              "      <td>MI</td>\n",
              "    </tr>\n",
              "    <tr>\n",
              "      <th>1</th>\n",
              "      <td>ecg_data/MI/241_MI.jpg</td>\n",
              "      <td>MI</td>\n",
              "    </tr>\n",
              "    <tr>\n",
              "      <th>2</th>\n",
              "      <td>ecg_data/MI/255_MI.jpg</td>\n",
              "      <td>MI</td>\n",
              "    </tr>\n",
              "    <tr>\n",
              "      <th>3</th>\n",
              "      <td>ecg_data/MI/254_MI.jpg</td>\n",
              "      <td>MI</td>\n",
              "    </tr>\n",
              "    <tr>\n",
              "      <th>4</th>\n",
              "      <td>ecg_data/MI/222_MI.jpg</td>\n",
              "      <td>MI</td>\n",
              "    </tr>\n",
              "  </tbody>\n",
              "</table>\n",
              "</div>"
            ],
            "text/plain": [
              "                      img label\n",
              "0  ecg_data/MI/262_MI.jpg    MI\n",
              "1  ecg_data/MI/241_MI.jpg    MI\n",
              "2  ecg_data/MI/255_MI.jpg    MI\n",
              "3  ecg_data/MI/254_MI.jpg    MI\n",
              "4  ecg_data/MI/222_MI.jpg    MI"
            ]
          },
          "metadata": {
            "tags": []
          },
          "execution_count": 6
        }
      ]
    },
    {
      "cell_type": "code",
      "metadata": {
        "colab": {
          "base_uri": "https://localhost:8080/"
        },
        "id": "3pC02P_uZaXq",
        "outputId": "75a01c46-1e22-4d8e-8389-3ccaa8306da1"
      },
      "source": [
        "df.label.value_counts()"
      ],
      "execution_count": null,
      "outputs": [
        {
          "output_type": "execute_result",
          "data": {
            "text/plain": [
              "Normal          859\n",
              "HeartBeat       546\n",
              "Covid           250\n",
              "MI_recovered    203\n",
              "MI               74\n",
              "Name: label, dtype: int64"
            ]
          },
          "metadata": {
            "tags": []
          },
          "execution_count": 7
        }
      ]
    },
    {
      "cell_type": "code",
      "metadata": {
        "id": "GIX7-ZAPYTt-"
      },
      "source": [
        "df.label=df.label.map({'Normal':0,'HeartBeat':1,'Covid':2,'MI_recovered':3,'MI':4})\r\n"
      ],
      "execution_count": null,
      "outputs": []
    },
    {
      "cell_type": "code",
      "metadata": {
        "id": "zoPNYVLq_xOs"
      },
      "source": [
        "#move all images to one folder\r\n",
        "!mkdir data\r\n",
        "!mv  /content/ecg_data/Covid/* /content/data\r\n",
        "!mv  /content/ecg_data/HeartBeat/* /content/data\r\n",
        "!mv  /content/ecg_data/MI/* /content/data\r\n",
        "!mv  /content/ecg_data/MI_recovered/* /content/data\r\n",
        "!mv  /content/ecg_data/Normal/* /content/data"
      ],
      "execution_count": null,
      "outputs": []
    },
    {
      "cell_type": "code",
      "metadata": {
        "colab": {
          "base_uri": "https://localhost:8080/"
        },
        "id": "zMsXIs3ZAOy9",
        "outputId": "089b3687-dfb8-4e69-adb6-bac33dcffc17"
      },
      "source": [
        "!ls data -U | head -4"
      ],
      "execution_count": null,
      "outputs": [
        {
          "output_type": "stream",
          "text": [
            "19_MI_recovered.jpg\n",
            "83_MI_recovered.jpg\n",
            "81_MI_recovered.jpg\n",
            "100_Normal.jpg\n"
          ],
          "name": "stdout"
        }
      ]
    },
    {
      "cell_type": "code",
      "metadata": {
        "id": "YgauqunqfsNa"
      },
      "source": [
        "df.img=df.img.apply(lambda x:'data/'+x.split('/')[-1])"
      ],
      "execution_count": null,
      "outputs": []
    },
    {
      "cell_type": "code",
      "metadata": {
        "colab": {
          "base_uri": "https://localhost:8080/",
          "height": 202
        },
        "id": "gTtw8DbefrAe",
        "outputId": "39871c38-c9af-432d-9f0f-7dfca26f5600"
      },
      "source": [
        "df.head()"
      ],
      "execution_count": null,
      "outputs": [
        {
          "output_type": "execute_result",
          "data": {
            "text/html": [
              "<div>\n",
              "<style scoped>\n",
              "    .dataframe tbody tr th:only-of-type {\n",
              "        vertical-align: middle;\n",
              "    }\n",
              "\n",
              "    .dataframe tbody tr th {\n",
              "        vertical-align: top;\n",
              "    }\n",
              "\n",
              "    .dataframe thead th {\n",
              "        text-align: right;\n",
              "    }\n",
              "</style>\n",
              "<table border=\"1\" class=\"dataframe\">\n",
              "  <thead>\n",
              "    <tr style=\"text-align: right;\">\n",
              "      <th></th>\n",
              "      <th>img</th>\n",
              "      <th>label</th>\n",
              "    </tr>\n",
              "  </thead>\n",
              "  <tbody>\n",
              "    <tr>\n",
              "      <th>0</th>\n",
              "      <td>data/262_MI.jpg</td>\n",
              "      <td>4</td>\n",
              "    </tr>\n",
              "    <tr>\n",
              "      <th>1</th>\n",
              "      <td>data/241_MI.jpg</td>\n",
              "      <td>4</td>\n",
              "    </tr>\n",
              "    <tr>\n",
              "      <th>2</th>\n",
              "      <td>data/255_MI.jpg</td>\n",
              "      <td>4</td>\n",
              "    </tr>\n",
              "    <tr>\n",
              "      <th>3</th>\n",
              "      <td>data/254_MI.jpg</td>\n",
              "      <td>4</td>\n",
              "    </tr>\n",
              "    <tr>\n",
              "      <th>4</th>\n",
              "      <td>data/222_MI.jpg</td>\n",
              "      <td>4</td>\n",
              "    </tr>\n",
              "  </tbody>\n",
              "</table>\n",
              "</div>"
            ],
            "text/plain": [
              "               img  label\n",
              "0  data/262_MI.jpg      4\n",
              "1  data/241_MI.jpg      4\n",
              "2  data/255_MI.jpg      4\n",
              "3  data/254_MI.jpg      4\n",
              "4  data/222_MI.jpg      4"
            ]
          },
          "metadata": {
            "tags": []
          },
          "execution_count": 12
        }
      ]
    },
    {
      "cell_type": "code",
      "metadata": {
        "id": "OzHr_riT98AU"
      },
      "source": [
        "import torch\n",
        "import torch.nn as nn\n",
        "import torchvision\n",
        "from PIL import Image\n"
      ],
      "execution_count": null,
      "outputs": []
    },
    {
      "cell_type": "code",
      "metadata": {
        "id": "fb-5K8v898Am"
      },
      "source": [
        "import pandas as pd\n",
        "import numpy as np\n",
        "import matplotlib.pyplot as plt"
      ],
      "execution_count": null,
      "outputs": []
    },
    {
      "cell_type": "code",
      "metadata": {
        "colab": {
          "base_uri": "https://localhost:8080/"
        },
        "id": "V4hSrftP98An",
        "outputId": "957b7653-7ea9-4642-c4c3-f6e29447067e"
      },
      "source": [
        "\n",
        "#check version of pytorch\n",
        "print(torch.__version__)\n",
        "print(torchvision.__version__)"
      ],
      "execution_count": null,
      "outputs": [
        {
          "output_type": "stream",
          "text": [
            "1.7.0+cu101\n",
            "0.8.1+cu101\n"
          ],
          "name": "stdout"
        }
      ]
    },
    {
      "cell_type": "code",
      "metadata": {
        "colab": {
          "base_uri": "https://localhost:8080/"
        },
        "id": "LiJ4DRdR98Aq",
        "outputId": "88421354-caf0-4ea9-e3bd-850d8004cd4a"
      },
      "source": [
        "#check gpu\n",
        "print(torch.cuda.is_available())\n",
        "print(torch.cuda.current_device())\n",
        "print(torch.cuda.device_count())\n",
        "print(torch.cuda.get_device_name(0))"
      ],
      "execution_count": null,
      "outputs": [
        {
          "output_type": "stream",
          "text": [
            "True\n",
            "0\n",
            "1\n",
            "Tesla T4\n"
          ],
          "name": "stdout"
        }
      ]
    },
    {
      "cell_type": "code",
      "metadata": {
        "id": "kNuYbomN98Aq"
      },
      "source": [
        "device=torch.device('cuda')"
      ],
      "execution_count": null,
      "outputs": []
    },
    {
      "cell_type": "code",
      "metadata": {
        "id": "uGAPgWEBwwkO"
      },
      "source": [
        "class AdjustGamma(object):\r\n",
        "    def __call__(self, img):\r\n",
        "        return transforms.functional.adjust_gamma(img, 0.8, gain=1)\r\n",
        "class AdjustContrast(object):\r\n",
        "    def __call__(self, img):\r\n",
        "        return transforms.functional.adjust_contrast(img, 2)\r\n",
        "class AdjustBrightness(object):\r\n",
        "    def __call__(self, img):\r\n",
        "        return transforms.functional.adjust_brightness(img, 2)"
      ],
      "execution_count": null,
      "outputs": []
    },
    {
      "cell_type": "code",
      "metadata": {
        "id": "fKqWfsLj98Ar"
      },
      "source": [
        "#image augmentation\n",
        "from torchvision import transforms \n",
        "aug=transforms.Compose([\n",
        "                        transforms.Resize((350,350)),\n",
        "                        transforms.RandomHorizontalFlip(p=0.7),transforms.RandomVerticalFlip(p=0.7),\n",
        "                        AdjustGamma(),\n",
        "                        AdjustContrast(),\n",
        "                        transforms.RandomPerspective(distortion_scale=0.1),   \n",
        "                        transforms.RandomResizedCrop((300,300)),                 \n",
        "                        transforms.CenterCrop(300),\n",
        "                        \n",
        "                        # transforms.GaussianBlur(5),\n",
        "                        \n",
        "                        transforms.ToTensor(),\n",
        "                        #transforms.RandomErasing(p=0.2),\n",
        "                        transforms.Normalize([0.5820, 0.4512, 0.4023], [0.2217, 0.1858, 0.1705]),\n",
        "\n",
        "                        ])"
      ],
      "execution_count": null,
      "outputs": []
    },
    {
      "cell_type": "code",
      "metadata": {
        "id": "8U_KnQQzVRcA"
      },
      "source": [
        "class dfloader(torch.utils.data.Dataset):\r\n",
        "    \r\n",
        "    def __init__(self,img_id,img_label,transform=None):\r\n",
        "        self.img_id = img_id    \r\n",
        "        self.img_label=img_label\r\n",
        "        self.transform=transform\r\n",
        "        \r\n",
        "    def __getitem__(self,index):\r\n",
        "        if type(index) == torch.Tensor:\r\n",
        "          index = index.item()\r\n",
        "        img_ind=self.img_id[index]\r\n",
        "        label_ind=self.img_label[index]\r\n",
        "\r\n",
        "        img = Image.open(img_ind).convert('RGB')\r\n",
        "      \r\n",
        "        if self.transform:\r\n",
        "           img=self.transform(img) \r\n",
        "  \r\n",
        "        return img ,label_ind\r\n",
        "    \r\n",
        "    def __len__(self):\r\n",
        "        return len(self.img_id)"
      ],
      "execution_count": null,
      "outputs": []
    },
    {
      "cell_type": "code",
      "metadata": {
        "id": "dCXTPqMUgV5K"
      },
      "source": [
        "import torchvision.models as models\r\n",
        "from efficientnet_pytorch import EfficientNet\r\n",
        "import torch.nn as nn\r\n",
        "def effnet_model():\r\n",
        "  model=EfficientNet.from_pretrained('efficientnet-b3')\r\n",
        "  num_ftrs = model._fc.in_features\r\n",
        "  model._fc = nn.Sequential(\r\n",
        "                        nn.Linear(num_ftrs, 512), \r\n",
        "                        nn.ReLU(), \r\n",
        "                        nn.Dropout(0.5),\r\n",
        "                        #nn.Linear(512, 256),  \r\n",
        "                        #nn.ReLU(),\r\n",
        "                        #nn.Dropout(0.25),\r\n",
        "                        nn.Linear(512, 5),  \r\n",
        "                        #nn.LogSoftmax(dim=1)\r\n",
        "  )\r\n",
        "  return model"
      ],
      "execution_count": null,
      "outputs": []
    },
    {
      "cell_type": "code",
      "metadata": {
        "id": "qxDu-aMagq4P"
      },
      "source": [
        ""
      ],
      "execution_count": null,
      "outputs": []
    },
    {
      "cell_type": "code",
      "metadata": {
        "id": "mS0rqtul98A3"
      },
      "source": [
        "from sklearn.metrics import classification_report,f1_score\n",
        "\n",
        "def fit(train_loader,val_loader,test_loader,model,epoch=10,scheduler_step=None,verbose=None):\n",
        "  from time import time\n",
        "  train_loss_plt=[]\n",
        "  val_loss_plt=[]\n",
        "  train_acc_plt=[]\n",
        "  val_acc_plt=[]\n",
        "  for ep in range(epoch):\n",
        "    start=time()\n",
        "    #start training loop\n",
        "    train_loss_sum=0\n",
        "    train_acc_sum=0\n",
        "    for train_batch in train_loader:\n",
        "      train_img,train_label=train_batch\n",
        "      train_img,train_label = train_img.to(device),train_label.to(device)\n",
        "\n",
        "      train_out=model(train_img)\n",
        "      train_loss=criterion(train_out,train_label)\n",
        "  #     pt = torch.exp(-train_loss)\n",
        "  #     train_loss = (alpha * (1-pt)**gamma * train_loss).mean() \n",
        "      opt.zero_grad()\n",
        "      train_loss.backward()\n",
        "      opt.step()\n",
        "      train_loss_sum+=train_loss.item()\n",
        "      train_acc_sum += ((torch.max(train_out,dim=1)[1]==train_label).sum().item())/len(train_label)\n",
        "    #start validation loop\n",
        "    val_loss_sum=0\n",
        "    val_acc_sum=0\n",
        "    model.eval()\n",
        "    with torch.no_grad():\n",
        "      for val_image,val_label in val_loader:\n",
        "        val_image,val_label=val_image.to(device),val_label.to(device)\n",
        "        val_out=model(val_image)\n",
        "        val_loss=criterion(val_out,val_label)\n",
        "  #       pt = torch.exp(-val_loss)\n",
        "  #       val_loss = (alpha * (1-pt)**gamma * val_loss).mean() \n",
        "        val_loss_sum+=val_loss.item()\n",
        "        val_acc_sum+=((torch.max(val_out,dim=1)[1]==val_label).sum().item())/len(val_label)\n",
        "    end=np.round((time()-start)/60,2) #time in minute\n",
        "    model.train()\n",
        "    #calculate print and append the results for plotting purpose\n",
        "    val_avg_loss=np.round(val_loss_sum/len(val_loader),2)#val loss of all batches of one epoch\n",
        "    train_avg_loss=np.round(train_loss_sum/len(train_loader),2)# train loss of all batches of one epoch\n",
        "    train_avg_acc=np.round(train_acc_sum/len(train_loader),2)#train acc of all batches of one epoch\n",
        "    val_avg_acc=np.round(val_acc_sum/len(val_loader),2)#val acc of all batches of one epoch\n",
        "    if scheduler_step:\n",
        "      scheduler.step(val_avg_loss)\n",
        "    if verbose:\n",
        "      print('Epoch {}, time {} , train acc  {}, train loss {} , val acc is {}, loss is {}, learning rate is {} '.format\n",
        "            (ep,end,train_avg_acc,train_avg_loss,val_avg_acc,val_avg_loss,opt.param_groups[0]['lr']))\n",
        "    train_loss_plt.append(train_avg_loss)  #append loss of training data  \n",
        "    val_loss_plt.append(val_avg_loss)     #append loss of validation data\n",
        "    train_acc_plt.append(train_avg_acc)  #append acc of training data  \n",
        "    val_acc_plt.append(val_avg_acc)     #append acc of validation data\n",
        "\n",
        "  test_pred=[]\n",
        "  test_actual=[]\n",
        "  model.eval()\n",
        "  with torch.no_grad():\n",
        "    for img,grnd_label in test_loader:\n",
        "      test_pred.append(model(img.to(device)))\n",
        "      test_actual.append(grnd_label)\n",
        "  test_pred=torch.cat(test_pred,dim=0)\n",
        "  test_actual=torch.cat(test_actual,dim=0)\n",
        "  y_pred=torch.max(test_pred,dim=1)\n",
        "  y_pred=y_pred[1].cpu().numpy()\n",
        "  test_actual=test_actual.numpy()\n",
        "  report=classification_report(test_actual,y_pred)\n",
        "  f1=f1_score(test_actual,y_pred,average='macro')\n",
        "  return [train_loss_plt,val_loss_plt,train_acc_plt,val_acc_plt],[report,f1]\n"
      ],
      "execution_count": null,
      "outputs": []
    },
    {
      "cell_type": "code",
      "metadata": {
        "colab": {
          "base_uri": "https://localhost:8080/",
          "height": 277,
          "referenced_widgets": [
            "7ea69290d1af4666921f127f6ce51a0f",
            "963948a56d2244ef820a8884f2f606e5",
            "00aeadb2eb384458902705fbe1b82c92",
            "83a8280e2c3447e7bb0b69b4831b749c",
            "e849e6180c2e4a61b5a7f7b48cfc84fd",
            "6f2efe09b0a440a69e72d486259661bc",
            "a3b9c7006f9e48c491ec47c54fb9c26b",
            "41e563ea52ab4c59856ededd4288270f"
          ]
        },
        "id": "35Sqq1IxaZPz",
        "outputId": "921af97c-d7c0-4062-d036-82533e051ba2"
      },
      "source": [
        "from sklearn.model_selection import KFold,StratifiedKFold\r\n",
        "from torch.utils.data.dataloader import DataLoader\r\n",
        "\r\n",
        "classification_reports=[]\r\n",
        "kf = StratifiedKFold(n_splits=5)\r\n",
        "graph,metric=[],[]\r\n",
        "fold=0\r\n",
        "for train_index, test_index in kf.split(df.img,df.label):\r\n",
        "  train=df.iloc[train_index,:]\r\n",
        "  test=df.iloc[test_index,:]\r\n",
        "  print('-----------fold {}--------------'.format(fold))\r\n",
        "  train=dfloader(train.img.values,train.label.values,transform=aug)\r\n",
        "  test=dfloader(test.img.values,test.label.values,transform=aug)\r\n",
        "  train_loader = DataLoader(train,shuffle=True,num_workers=0,batch_size=32)\r\n",
        "  val_loader = DataLoader(test,shuffle=True,num_workers=0,batch_size=32)\r\n",
        "  #class weight\r\n",
        "  target=[batch[1] for batch in train_loader]\r\n",
        "  class_sample_count = torch.unique(torch.cat(target), return_counts=True)[1]\r\n",
        "  weight = torch.true_divide(1,class_sample_count)\r\n",
        "  #model initiate\r\n",
        "  model=effnet_model()\r\n",
        "  my_model=model.to(device)\r\n",
        "  criterion=torch.nn.CrossEntropyLoss(weight=weight.to(device))\r\n",
        "  opt=torch.optim.AdamW(params=my_model.parameters(),lr=0.0001)\r\n",
        "  scheduler = torch.optim.lr_scheduler.ReduceLROnPlateau(opt,mode ='min',factor=0.5, patience=5, verbose=True)\r\n",
        "  #training\r\n",
        "  res=fit(train_loader,val_loader,val_loader,my_model,epoch=15)\r\n",
        "  graph.append(res[0]),metric.append(res[1])\r\n",
        "  fold+=1\r\n",
        "  del my_model"
      ],
      "execution_count": null,
      "outputs": [
        {
          "output_type": "stream",
          "text": [
            "-----------fold 0--------------\n"
          ],
          "name": "stdout"
        },
        {
          "output_type": "stream",
          "text": [
            "Downloading: \"https://github.com/lukemelas/EfficientNet-PyTorch/releases/download/1.0/efficientnet-b3-5fb5a3c3.pth\" to /root/.cache/torch/hub/checkpoints/efficientnet-b3-5fb5a3c3.pth\n"
          ],
          "name": "stderr"
        },
        {
          "output_type": "display_data",
          "data": {
            "application/vnd.jupyter.widget-view+json": {
              "model_id": "7ea69290d1af4666921f127f6ce51a0f",
              "version_major": 2,
              "version_minor": 0
            },
            "text/plain": [
              "HBox(children=(FloatProgress(value=0.0, max=49388949.0), HTML(value='')))"
            ]
          },
          "metadata": {
            "tags": []
          }
        },
        {
          "output_type": "stream",
          "text": [
            "\n",
            "Loaded pretrained weights for efficientnet-b3\n",
            "-----------fold 1--------------\n",
            "Loaded pretrained weights for efficientnet-b3\n",
            "-----------fold 2--------------\n",
            "Loaded pretrained weights for efficientnet-b3\n",
            "-----------fold 3--------------\n",
            "Loaded pretrained weights for efficientnet-b3\n",
            "-----------fold 4--------------\n",
            "Loaded pretrained weights for efficientnet-b3\n"
          ],
          "name": "stdout"
        }
      ]
    },
    {
      "cell_type": "code",
      "metadata": {
        "id": "5PZEmomf98BA",
        "colab": {
          "base_uri": "https://localhost:8080/"
        },
        "outputId": "b251a9e8-9f2b-489a-d7f4-fc3930fdbf99"
      },
      "source": [
        "class_report=[]\r\n",
        "for i in range(5):\r\n",
        "  print(metric[i][0])\r\n",
        "  class_report.append(metric[i][0])"
      ],
      "execution_count": null,
      "outputs": [
        {
          "output_type": "stream",
          "text": [
            "              precision    recall  f1-score   support\n",
            "\n",
            "           0       0.92      0.70      0.80       172\n",
            "           1       0.68      0.74      0.71       109\n",
            "           2       1.00      0.96      0.98        50\n",
            "           3       0.44      0.71      0.54        41\n",
            "           4       0.50      0.73      0.59        15\n",
            "\n",
            "    accuracy                           0.75       387\n",
            "   macro avg       0.71      0.77      0.72       387\n",
            "weighted avg       0.79      0.75      0.76       387\n",
            "\n",
            "              precision    recall  f1-score   support\n",
            "\n",
            "           0       0.85      0.72      0.78       172\n",
            "           1       0.75      0.72      0.74       109\n",
            "           2       1.00      0.98      0.99        50\n",
            "           3       0.47      0.85      0.61        41\n",
            "           4       0.62      0.53      0.57        15\n",
            "\n",
            "    accuracy                           0.76       387\n",
            "   macro avg       0.74      0.76      0.74       387\n",
            "weighted avg       0.79      0.76      0.77       387\n",
            "\n",
            "              precision    recall  f1-score   support\n",
            "\n",
            "           0       0.89      0.82      0.86       171\n",
            "           1       0.78      0.72      0.75       109\n",
            "           2       0.98      0.98      0.98        50\n",
            "           3       0.63      0.63      0.63        41\n",
            "           4       0.39      0.93      0.55        15\n",
            "\n",
            "    accuracy                           0.80       386\n",
            "   macro avg       0.74      0.82      0.75       386\n",
            "weighted avg       0.83      0.80      0.81       386\n",
            "\n",
            "              precision    recall  f1-score   support\n",
            "\n",
            "           0       0.85      0.77      0.81       172\n",
            "           1       0.80      0.56      0.66       109\n",
            "           2       0.98      0.90      0.94        50\n",
            "           3       0.43      0.75      0.55        40\n",
            "           4       0.35      0.87      0.50        15\n",
            "\n",
            "    accuracy                           0.73       386\n",
            "   macro avg       0.68      0.77      0.69       386\n",
            "weighted avg       0.79      0.73      0.74       386\n",
            "\n",
            "              precision    recall  f1-score   support\n",
            "\n",
            "           0       0.89      0.79      0.84       172\n",
            "           1       0.74      0.79      0.76       110\n",
            "           2       1.00      0.94      0.97        50\n",
            "           3       0.53      0.60      0.56        40\n",
            "           4       0.39      0.64      0.49        14\n",
            "\n",
            "    accuracy                           0.78       386\n",
            "   macro avg       0.71      0.75      0.72       386\n",
            "weighted avg       0.81      0.78      0.79       386\n",
            "\n"
          ],
          "name": "stdout"
        }
      ]
    },
    {
      "cell_type": "code",
      "metadata": {
        "colab": {
          "base_uri": "https://localhost:8080/"
        },
        "id": "VMAZ1D4nncAB",
        "outputId": "c8dbeed5-1652-465c-96ff-8663ee6d79de"
      },
      "source": [
        "from functools import reduce\r\n",
        "report_list=[]\r\n",
        "for i in range(5):\r\n",
        "  splited = [' '.join(x.split()) for x in class_report[i].split('\\n\\n')]\r\n",
        "  header = [x for x in splited[0].split(' ')]\r\n",
        "  data = np.array(splited[1].split(' ')).reshape(-1, len(header) + 1)\r\n",
        "  data = np.delete(data, 0, 1).astype(float)\r\n",
        "  x=splited[2].split(' ')[5::]\r\n",
        "  x.remove('weighted')\r\n",
        "  x.remove('avg')\r\n",
        "  x=np.array([float(i) for i in x]).reshape(-1, len(header))\r\n",
        "  index=['Normal','HeartBeat','Covid','MI_recovered','MI','macro','weighted']\r\n",
        "  df = pd.DataFrame(np.concatenate((data, x)), columns=header,index=index)\r\n",
        "  report_list.append(df)\r\n",
        "print(reduce(lambda x, y: x.add(y, fill_value=0), report_list) / len(report_list))"
      ],
      "execution_count": null,
      "outputs": [
        {
          "output_type": "stream",
          "text": [
            "              precision  recall  f1-score  support\n",
            "Normal            0.880   0.760     0.818    171.8\n",
            "HeartBeat         0.750   0.706     0.724    109.2\n",
            "Covid             0.992   0.952     0.972     50.0\n",
            "MI_recovered      0.500   0.708     0.578     40.6\n",
            "MI                0.450   0.740     0.540     14.8\n",
            "macro             0.716   0.774     0.724    386.4\n",
            "weighted          0.802   0.764     0.774    386.4\n"
          ],
          "name": "stdout"
        }
      ]
    },
    {
      "cell_type": "code",
      "metadata": {
        "id": "tFx6NcK6pX6O",
        "colab": {
          "base_uri": "https://localhost:8080/",
          "height": 330
        },
        "outputId": "28332235-be1c-4805-b777-6af1df624180"
      },
      "source": [
        "for i in range(5):\r\n",
        "  plt.plot(graph[i][3],label='Fold{}'.format(i+1),linestyle='-.',linewidth=1.5)\r\n",
        "plt.plot(np.mean([graph[i][3] for i in range(5)],axis=0),label='Average',linewidth=2,color='black')\r\n",
        "plt.legend()\r\n",
        "#plt.title('Model validation Accuracy ')\r\n",
        "plt.xlabel('Number of Epochs',)\r\n",
        "plt.ylabel('Validation Accuracy')\r\n",
        "plt.savefig('adamW_augmented_acc.eps')\r\n",
        "plt.title('Validation accuracy for each fold')\r\n",
        "!cp '/content/adamW_augmented_acc.eps' '/content/drive/MyDrive/image'"
      ],
      "execution_count": 32,
      "outputs": [
        {
          "output_type": "stream",
          "text": [
            "The PostScript backend does not support transparency; partially transparent artists will be rendered opaque.\n",
            "The PostScript backend does not support transparency; partially transparent artists will be rendered opaque.\n"
          ],
          "name": "stderr"
        },
        {
          "output_type": "display_data",
          "data": {
            "image/png": "[encoded data removed]",
            "text/plain": [
              "<Figure size 432x288 with 1 Axes>"
            ]
          },
          "metadata": {
            "tags": [],
            "needs_background": "light"
          }
        }
      ]
    },
    {
      "cell_type": "code",
      "metadata": {
        "id": "YIR72fkVCypd",
        "colab": {
          "base_uri": "https://localhost:8080/",
          "height": 330
        },
        "outputId": "7fe9881a-f187-45b6-b495-6d0ebf0aefce"
      },
      "source": [
        "for i in range(5):\r\n",
        "  plt.plot(graph[i][1],label='Fold{}'.format(i+1),linestyle='-.',linewidth=1.5)\r\n",
        "plt.plot(np.mean([graph[i][1] for i in range(5)],axis=0),label='Average',linewidth=2,color='black')\r\n",
        "plt.legend()\r\n",
        "#plt.title('Model validation Accuracy ')\r\n",
        "plt.xlabel('Number of Epochs',)\r\n",
        "plt.ylabel('Validation Loss')\r\n",
        "plt.savefig('adamW_augmented_loss.eps')\r\n",
        "plt.title('Validation loss for each fold')\r\n",
        "!cp '/content/adamW_augmented_loss.eps' '/content/drive/MyDrive/image'"
      ],
      "execution_count": 33,
      "outputs": [
        {
          "output_type": "stream",
          "text": [
            "The PostScript backend does not support transparency; partially transparent artists will be rendered opaque.\n",
            "The PostScript backend does not support transparency; partially transparent artists will be rendered opaque.\n"
          ],
          "name": "stderr"
        },
        {
          "output_type": "display_data",
          "data": {
            "image/png": "[encoded data removed]",
            "text/plain": [
              "<Figure size 432x288 with 1 Axes>"
            ]
          },
          "metadata": {
            "tags": [],
            "needs_background": "light"
          }
        }
      ]
    },
    {
      "cell_type": "code",
      "metadata": {
        "colab": {
          "base_uri": "https://localhost:8080/",
          "height": 313
        },
        "id": "jbm0-TA0WC-6",
        "outputId": "ae419c34-0eea-49af-c0ad-0bd2420fcafc"
      },
      "source": [
        "plt.plot(np.mean([graph[i][0] for i in range(5)],axis=0),label='Train Average')\r\n",
        "plt.plot(np.mean([graph[i][1] for i in range(5)],axis=0),label='Val Average')\r\n",
        "plt.legend()\r\n",
        "plt.xlabel('Epochs')\r\n",
        "plt.ylabel('Loss')\r\n",
        "plt.title('Averaged Training and Validation Loss')"
      ],
      "execution_count": 30,
      "outputs": [
        {
          "output_type": "execute_result",
          "data": {
            "text/plain": [
              "Text(0.5, 1.0, 'Averaged Training and Validation Loss')"
            ]
          },
          "metadata": {
            "tags": []
          },
          "execution_count": 30
        },
        {
          "output_type": "display_data",
          "data": {
            "image/png": "[encoded data removed]",
            "text/plain": [
              "<Figure size 432x288 with 1 Axes>"
            ]
          },
          "metadata": {
            "tags": [],
            "needs_background": "light"
          }
        }
      ]
    },
    {
      "cell_type": "code",
      "metadata": {
        "colab": {
          "base_uri": "https://localhost:8080/",
          "height": 313
        },
        "id": "lbR0cQr9Zg3R",
        "outputId": "397fe2ae-3b97-48ab-8bdd-4fe2834dfd4b"
      },
      "source": [
        "plt.plot(np.mean([graph[i][2] for i in range(5)],axis=0),label='Train Average')\r\n",
        "plt.plot(np.mean([graph[i][3] for i in range(5)],axis=0),label='Val Average')\r\n",
        "plt.legend()\r\n",
        "plt.xlabel('Epochs')\r\n",
        "plt.ylabel('Accuracy')\r\n",
        "plt.title('Averaged Training and Validation Accuracy')"
      ],
      "execution_count": 31,
      "outputs": [
        {
          "output_type": "execute_result",
          "data": {
            "text/plain": [
              "Text(0.5, 1.0, 'Averaged Training and Validation Accuracy')"
            ]
          },
          "metadata": {
            "tags": []
          },
          "execution_count": 31
        },
        {
          "output_type": "display_data",
          "data": {
            "image/png": "[encoded data removed]",
            "text/plain": [
              "<Figure size 432x288 with 1 Axes>"
            ]
          },
          "metadata": {
            "tags": [],
            "needs_background": "light"
          }
        }
      ]
    },
    {
      "cell_type": "code",
      "metadata": {
        "colab": {
          "base_uri": "https://localhost:8080/"
        },
        "id": "Gh4xlCzQZiHq",
        "outputId": "4b82329e-2069-4921-93d7-2bd4dd1d2516"
      },
      "source": [
        "val=['train_loss','val_loss','train_acc','val_acc']\r\n",
        "for j,k in enumerate(val):\r\n",
        "  print(k,np.mean([graph[i][j] for i in range(5)],axis=0))"
      ],
      "execution_count": 34,
      "outputs": [
        {
          "output_type": "stream",
          "text": [
            "train_loss [1.412 1.056 0.922 0.848 0.78  0.728 0.68  0.664 0.606 0.626 0.614 0.568\n",
            " 0.55  0.542 0.51 ]\n",
            "val_loss [1.516 1.468 1.176 0.952 0.95  0.792 0.842 0.748 0.746 0.7   0.628 0.682\n",
            " 0.708 0.67  0.644]\n",
            "train_acc [0.548 0.666 0.71  0.71  0.688 0.712 0.724 0.742 0.744 0.744 0.74  0.76\n",
            " 0.77  0.772 0.776]\n",
            "val_acc [0.184 0.348 0.576 0.712 0.688 0.744 0.752 0.732 0.724 0.73  0.75  0.738\n",
            " 0.75  0.764 0.76 ]\n"
          ],
          "name": "stdout"
        }
      ]
    },
    {
      "cell_type": "code",
      "metadata": {
        "id": "nA0qSjhqcWl_"
      },
      "source": [
        ""
      ],
      "execution_count": null,
      "outputs": []
    }
  ]
}